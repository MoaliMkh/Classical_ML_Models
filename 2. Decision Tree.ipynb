{
 "cells": [
  {
   "cell_type": "markdown",
   "id": "6baf2598",
   "metadata": {
    "ExecuteTime": {
     "end_time": "2022-10-22T21:06:33.084910Z",
     "start_time": "2022-10-22T21:06:33.065246Z"
    }
   },
   "source": [
    "<br><font face=\"Times New Roman\" size=5><div dir=ltr align=center>\n",
    "<font color=blue size=8>\n",
    "    Introduction to Machine Learning <br>\n",
    "<font color=red size=5>\n",
    "    Sharif University of Technology - Computer Engineering Department <br>\n",
    "    Fall 2022<br> <br>\n",
    "<font color=black size=6>\n",
    "    Homework 2: Practical - Decision Tree   \n",
    "<font color=black size=4>\n",
    "    Hamidreza Yaghoubi \n",
    "    \n",
    "<br><br>\n",
    "<font size=4>\n",
    "In this homework, we are going to implement the Classification Decision Tree. Keep in mind to complete all of the following questions and write your own codes in the TODO cells."
   ]
  },
  {
   "cell_type": "markdown",
   "id": "bd3871b7",
   "metadata": {},
   "source": [
    "<font face=\"Times New Roman\" size=4><div dir=ltr>\n",
    "# Problem 2: Classification Decision Tree (100 points)\n",
    "We will implement a Classification Decision Tree from scratch in the following problem. Then we will use our model to predict malignant and benign breast cancer. For this purpose, we will use the breast_cancer.csv dataset which you can find more details about it <a href=\"https://www.kaggle.com/datasets/merishnasuwal/breast-cancer-prediction-dataset\"><font face=\"Roboto\">here</font></a>."
   ]
  },
  {
   "cell_type": "code",
   "execution_count": 1,
   "id": "ccdebb27",
   "metadata": {
    "ExecuteTime": {
     "end_time": "2022-10-22T21:30:24.876526Z",
     "start_time": "2022-10-22T21:30:24.439793Z"
    }
   },
   "outputs": [],
   "source": [
    "import pandas as pd\n",
    "from sklearn.model_selection import train_test_split\n",
    "from sklearn.metrics import accuracy_score\n",
    "from math import log\n",
    "import random\n",
    "import numpy as np"
   ]
  },
  {
   "cell_type": "markdown",
   "id": "e2307c50",
   "metadata": {},
   "source": [
    "<font face=\"Times New Roman\" size=4><div dir=ltr>\n",
    "## Classification Decision Tree Class (60 points)\n",
    "In this section, you only need to fill TODO parts. You can find the logic and formula in both course slides and the web, but fill it out on your own. "
   ]
  },
  {
   "cell_type": "code",
   "execution_count": 9,
   "id": "618baebb",
   "metadata": {
    "ExecuteTime": {
     "end_time": "2022-10-22T21:30:25.034364Z",
     "start_time": "2022-10-22T21:30:25.021627Z"
    }
   },
   "outputs": [],
   "source": [
    "class Node:\n",
    "    def __init__(self, feature=None, threshold=None, left=None, right=None, value=None):\n",
    "        self.feature = feature\n",
    "        self.threshold = threshold\n",
    "        self.left = left\n",
    "        self.right = right\n",
    "        self.value = value\n",
    "\n",
    "    def is_leaf(self):\n",
    "        if self.value is not None:\n",
    "            return True\n",
    "        return False"
   ]
  },
  {
   "cell_type": "code",
   "execution_count": 2,
   "id": "71b3b483",
   "metadata": {
    "ExecuteTime": {
     "end_time": "2022-10-22T21:30:25.439792Z",
     "start_time": "2022-10-22T21:30:25.404649Z"
    }
   },
   "outputs": [],
   "source": [
    "class DecisionTree:\n",
    "    def __init__(self, max_depth=None, min_samples_split=2):\n",
    "        self.max_depth = max_depth\n",
    "        self.min_samples_split = min_samples_split\n",
    "        self.root = None\n",
    "\n",
    "    def is_splitting_finished(self, depth, num_class_labels, num_samples):\n",
    "        if self.max_depth <= depth or num_samples <= self.min_samples_split or num_class_labels == 1:\n",
    "            return True \n",
    "        else:\n",
    "            return False\n",
    "\n",
    "    def split(self, X, y, feature, threshold):\n",
    "        left_indexes = X[feature] <= threshold\n",
    "        right_indexes = -left_indexes\n",
    "        X_left = X[left_indexes]\n",
    "        y_left = y[left_indexes]\n",
    "        X_right = X[right_indexes]\n",
    "        y_right = y[right_indexes]\n",
    "\n",
    "        return X_left, X_right, y_left, y_right\n",
    "\n",
    "    def entropy(self, y):\n",
    "        \n",
    "        ent = 0\n",
    "        p = y.sum()[0] / len(y)\n",
    "        if p == 1 or p == 0:\n",
    "            return 0\n",
    "        \n",
    "        ent = (-1) * (p * log(p, 2) + (1 - p) * log(1 - p, 2))\n",
    "        return ent\n",
    "\n",
    "\n",
    "    def information_gain(self, X, y, feature, threshold):\n",
    "        X_left, X_right, y_left, y_right = self.split(X, y, feature, threshold)\n",
    "        H_y = self.entropy(y)\n",
    "        p = len(y_left)/len(y)\n",
    "        if len(y_left) != 0:\n",
    "            H1 = self.entropy(y_left) \n",
    "            H2 = self.entropy(y_right)\n",
    "            H_y_given_x = p * H1 + (1-p) * H2\n",
    "            return H_y - H_y_given_x\n",
    "        if len(y_left) == 0 or len(y_right) == 0:\n",
    "            return 0\n",
    "        if len(y_right) != 0:\n",
    "            H1 = self.entropy(y_left) \n",
    "            H2 = self.entropy(y_right)\n",
    "            H_y_given_x = p * H1 + (1-p) * H2\n",
    "            return H_y - H_y_given_x\n",
    "\n",
    "\n",
    "    def best_split(self, X, y):\n",
    "\n",
    "        features = list(X.columns.values)\n",
    "        random.shuffle(features)\n",
    "        best_information_gain = 0\n",
    "        best_feature = None\n",
    "        best_threshold = None\n",
    "        for feature in features:\n",
    "            thresholds = list(set(list(X[feature])))\n",
    "            for threshold in thresholds:\n",
    "                info_gain = self.information_gain(X, y, feature, threshold)\n",
    "                if info_gain >= best_information_gain:\n",
    "                    best_information_gain = info_gain\n",
    "                    best_feature = feature\n",
    "                    best_threshold = threshold\n",
    "        return best_feature, best_threshold\n",
    "\n",
    "    def build_tree(self, X, y, depth=0):\n",
    "        if self.is_splitting_finished(depth, len(X.columns), len(X)):\n",
    "            return None\n",
    "\n",
    "        best_feature, best_threshold = self.best_split(X, y)\n",
    "        X_left, X_right, y_left, y_right = self.split(X, y, best_feature, best_threshold)\n",
    "\n",
    "        left_node = self.build_tree(X_left, y_left, depth=depth + 1)\n",
    "        right_node = self.build_tree(X_right, y_right, depth=depth + 1)\n",
    "\n",
    "        value = None\n",
    "        if left_node is None or right_node is None:\n",
    "            true_value = len(y[y['diagnosis'] == 1])\n",
    "            false_value = len(y[y['diagnosis'] == 0])\n",
    "            if true_value >= false_value:\n",
    "                value = 1\n",
    "            else:\n",
    "                value = 0\n",
    "\n",
    "        return Node(feature=best_feature, threshold=best_threshold, left=left_node, right=right_node, value=value)\n",
    "\n",
    "    def fit(self, X, y):\n",
    "        self.root = self.build_tree(X, y)\n",
    "\n",
    "    def predict(self, X):\n",
    "        tree = self.root\n",
    "        predicted_value = []\n",
    "        for index in list(X.index):\n",
    "            data = X.loc[index]\n",
    "            current_tree = tree\n",
    "            for depth in range(self.max_depth):\n",
    "                if Node.is_leaf(current_tree):\n",
    "                    predicted_value.append(current_tree.value)\n",
    "                    break\n",
    "                feature = current_tree.feature\n",
    "                threshold = current_tree.threshold\n",
    "                if data[feature] <= threshold:\n",
    "                    current_tree = current_tree.left\n",
    "                if data[feature] > threshold:\n",
    "                    current_tree = current_tree.right\n",
    "\n",
    "        return predicted_value"
   ]
  },
  {
   "cell_type": "markdown",
   "id": "8e2197f0",
   "metadata": {},
   "source": [
    "<font face=\"Times New Roman\" size=4><div dir=ltr>\n",
    "## Data Prepration (20 points)\n",
    "In this section, you must perform a good EDA for data. Then split it into train and validation data. We will then use the validation data to find the best model hyperparameters.  "
   ]
  },
  {
   "cell_type": "code",
   "execution_count": 3,
   "id": "da5a4d94",
   "metadata": {
    "ExecuteTime": {
     "end_time": "2022-10-22T21:30:26.199958Z",
     "start_time": "2022-10-22T21:30:26.192910Z"
    }
   },
   "outputs": [
    {
     "data": {
      "text/html": [
       "<div>\n",
       "<style scoped>\n",
       "    .dataframe tbody tr th:only-of-type {\n",
       "        vertical-align: middle;\n",
       "    }\n",
       "\n",
       "    .dataframe tbody tr th {\n",
       "        vertical-align: top;\n",
       "    }\n",
       "\n",
       "    .dataframe thead th {\n",
       "        text-align: right;\n",
       "    }\n",
       "</style>\n",
       "<table border=\"1\" class=\"dataframe\">\n",
       "  <thead>\n",
       "    <tr style=\"text-align: right;\">\n",
       "      <th></th>\n",
       "      <th>mean_radius</th>\n",
       "      <th>mean_texture</th>\n",
       "      <th>mean_perimeter</th>\n",
       "      <th>mean_area</th>\n",
       "      <th>mean_smoothness</th>\n",
       "      <th>diagnosis</th>\n",
       "    </tr>\n",
       "  </thead>\n",
       "  <tbody>\n",
       "    <tr>\n",
       "      <th>0</th>\n",
       "      <td>17.99</td>\n",
       "      <td>10.38</td>\n",
       "      <td>122.80</td>\n",
       "      <td>1001.0</td>\n",
       "      <td>0.11840</td>\n",
       "      <td>0</td>\n",
       "    </tr>\n",
       "    <tr>\n",
       "      <th>1</th>\n",
       "      <td>20.57</td>\n",
       "      <td>17.77</td>\n",
       "      <td>132.90</td>\n",
       "      <td>1326.0</td>\n",
       "      <td>0.08474</td>\n",
       "      <td>0</td>\n",
       "    </tr>\n",
       "    <tr>\n",
       "      <th>2</th>\n",
       "      <td>19.69</td>\n",
       "      <td>21.25</td>\n",
       "      <td>130.00</td>\n",
       "      <td>1203.0</td>\n",
       "      <td>0.10960</td>\n",
       "      <td>0</td>\n",
       "    </tr>\n",
       "    <tr>\n",
       "      <th>3</th>\n",
       "      <td>11.42</td>\n",
       "      <td>20.38</td>\n",
       "      <td>77.58</td>\n",
       "      <td>386.1</td>\n",
       "      <td>0.14250</td>\n",
       "      <td>0</td>\n",
       "    </tr>\n",
       "    <tr>\n",
       "      <th>4</th>\n",
       "      <td>20.29</td>\n",
       "      <td>14.34</td>\n",
       "      <td>135.10</td>\n",
       "      <td>1297.0</td>\n",
       "      <td>0.10030</td>\n",
       "      <td>0</td>\n",
       "    </tr>\n",
       "    <tr>\n",
       "      <th>...</th>\n",
       "      <td>...</td>\n",
       "      <td>...</td>\n",
       "      <td>...</td>\n",
       "      <td>...</td>\n",
       "      <td>...</td>\n",
       "      <td>...</td>\n",
       "    </tr>\n",
       "    <tr>\n",
       "      <th>564</th>\n",
       "      <td>21.56</td>\n",
       "      <td>22.39</td>\n",
       "      <td>142.00</td>\n",
       "      <td>1479.0</td>\n",
       "      <td>0.11100</td>\n",
       "      <td>0</td>\n",
       "    </tr>\n",
       "    <tr>\n",
       "      <th>565</th>\n",
       "      <td>20.13</td>\n",
       "      <td>28.25</td>\n",
       "      <td>131.20</td>\n",
       "      <td>1261.0</td>\n",
       "      <td>0.09780</td>\n",
       "      <td>0</td>\n",
       "    </tr>\n",
       "    <tr>\n",
       "      <th>566</th>\n",
       "      <td>16.60</td>\n",
       "      <td>28.08</td>\n",
       "      <td>108.30</td>\n",
       "      <td>858.1</td>\n",
       "      <td>0.08455</td>\n",
       "      <td>0</td>\n",
       "    </tr>\n",
       "    <tr>\n",
       "      <th>567</th>\n",
       "      <td>20.60</td>\n",
       "      <td>29.33</td>\n",
       "      <td>140.10</td>\n",
       "      <td>1265.0</td>\n",
       "      <td>0.11780</td>\n",
       "      <td>0</td>\n",
       "    </tr>\n",
       "    <tr>\n",
       "      <th>568</th>\n",
       "      <td>7.76</td>\n",
       "      <td>24.54</td>\n",
       "      <td>47.92</td>\n",
       "      <td>181.0</td>\n",
       "      <td>0.05263</td>\n",
       "      <td>1</td>\n",
       "    </tr>\n",
       "  </tbody>\n",
       "</table>\n",
       "<p>569 rows × 6 columns</p>\n",
       "</div>"
      ],
      "text/plain": [
       "     mean_radius  mean_texture  mean_perimeter  mean_area  mean_smoothness  \\\n",
       "0          17.99         10.38          122.80     1001.0          0.11840   \n",
       "1          20.57         17.77          132.90     1326.0          0.08474   \n",
       "2          19.69         21.25          130.00     1203.0          0.10960   \n",
       "3          11.42         20.38           77.58      386.1          0.14250   \n",
       "4          20.29         14.34          135.10     1297.0          0.10030   \n",
       "..           ...           ...             ...        ...              ...   \n",
       "564        21.56         22.39          142.00     1479.0          0.11100   \n",
       "565        20.13         28.25          131.20     1261.0          0.09780   \n",
       "566        16.60         28.08          108.30      858.1          0.08455   \n",
       "567        20.60         29.33          140.10     1265.0          0.11780   \n",
       "568         7.76         24.54           47.92      181.0          0.05263   \n",
       "\n",
       "     diagnosis  \n",
       "0            0  \n",
       "1            0  \n",
       "2            0  \n",
       "3            0  \n",
       "4            0  \n",
       "..         ...  \n",
       "564          0  \n",
       "565          0  \n",
       "566          0  \n",
       "567          0  \n",
       "568          1  \n",
       "\n",
       "[569 rows x 6 columns]"
      ]
     },
     "execution_count": 3,
     "metadata": {},
     "output_type": "execute_result"
    }
   ],
   "source": [
    "breast_cancer_pdf = pd.read_csv(\"breast_cancer.csv\")\n",
    "breast_cancer_pdf"
   ]
  },
  {
   "cell_type": "code",
   "execution_count": 4,
   "id": "27207399",
   "metadata": {
    "ExecuteTime": {
     "end_time": "2022-10-22T21:30:28.478997Z",
     "start_time": "2022-10-22T21:30:28.476044Z"
    }
   },
   "outputs": [
    {
     "name": "stdout",
     "output_type": "stream",
     "text": [
      "There is no duplicated values in dataset\n",
      "There is no negative value in dataset\n",
      "There is no NaN value in dataset\n"
     ]
    }
   ],
   "source": [
    "counter = 0\n",
    "for item in breast_cancer_pdf.duplicated():\n",
    "    if item == True:\n",
    "        counter += 1\n",
    "    else:\n",
    "        continue\n",
    "\n",
    "if counter == 0:\n",
    "    print(\"There is no duplicated values in dataset\")\n",
    "if (breast_cancer_pdf < 0).sum().sum() ==0:\n",
    "    print('There is no negative value in dataset') \n",
    "if breast_cancer_pdf.isnull().sum().sum() == 0:\n",
    "    print('There is no NaN value in dataset') \n",
    "\n",
    "### So we made sure that our dataset is OK and doesn't have any abnormalities.\n"
   ]
  },
  {
   "cell_type": "code",
   "execution_count": 5,
   "id": "d877df2b",
   "metadata": {},
   "outputs": [
    {
     "data": {
      "text/plain": [
       "<AxesSubplot: title={'center': 'mean_texture'}, xlabel='diagnosis'>"
      ]
     },
     "execution_count": 5,
     "metadata": {},
     "output_type": "execute_result"
    },
    {
     "data": {
      "image/png": "[encoded data removed]",
      "text/plain": [
       "<Figure size 640x480 with 1 Axes>"
      ]
     },
     "metadata": {},
     "output_type": "display_data"
    }
   ],
   "source": [
    "breast_cancer_pdf.boxplot(column = 'mean_texture', by = 'diagnosis')\n",
    "#### Visualizing data by diagnosis\n"
   ]
  },
  {
   "cell_type": "code",
   "execution_count": 6,
   "id": "39ba4c34",
   "metadata": {
    "ExecuteTime": {
     "end_time": "2022-10-22T21:30:38.003703Z",
     "start_time": "2022-10-22T21:30:37.996292Z"
    }
   },
   "outputs": [],
   "source": [
    "X = breast_cancer_pdf.iloc[:, 0:5]    ### Features\n",
    "Y = breast_cancer_pdf.iloc[:, 5].to_frame(\"diagnosis\")  #### Targets: diagnosis\n",
    "\n",
    "x_train, x_val, y_train, y_val = train_test_split(X, Y, test_size=0.70, random_state=42)"
   ]
  },
  {
   "cell_type": "markdown",
   "id": "cefd7a92",
   "metadata": {},
   "source": [
    "<font face=\"Times New Roman\" size=4><div dir=ltr>\n",
    "## Training And Tuning Hyperparameters (20 points)\n",
    "In this section, you only need to find the best hyperparameters for your model. You can test different values and permutations of hyperparameters by adding them to the lists below. Your model must have at least accuracy=0.85 on validation data."
   ]
  },
  {
   "cell_type": "code",
   "execution_count": 7,
   "id": "assigned-estate",
   "metadata": {
    "ExecuteTime": {
     "end_time": "2022-10-22T21:36:15.733600Z",
     "start_time": "2022-10-22T21:36:15.730426Z"
    }
   },
   "outputs": [],
   "source": [
    "max_depths = [1, 2, 3, 4, 5, 6]\n",
    "min_samples_splits = [4, 8, 16, 32]  #### Set of hyperparameters"
   ]
  },
  {
   "cell_type": "code",
   "execution_count": 10,
   "id": "58003410",
   "metadata": {},
   "outputs": [
    {
     "name": "stderr",
     "output_type": "stream",
     "text": [
      "/var/folders/08/p1z1c8c126l84xc2g6szk34w0000gn/T/ipykernel_20073/3840127278.py:26: RuntimeWarning: invalid value encountered in double_scalars\n",
      "  p = y.sum()[0] / len(y)\n"
     ]
    },
    {
     "name": "stdout",
     "output_type": "stream",
     "text": [
      "accuracy of training set for [min_samples_splits=4-max_depths=1] =0.5764705882352941\n",
      "accuracy of validation set for [min_samples_splits=4-max_depths=1] =0.6491228070175439\n",
      "------------------------------------------------\n"
     ]
    },
    {
     "name": "stderr",
     "output_type": "stream",
     "text": [
      "/var/folders/08/p1z1c8c126l84xc2g6szk34w0000gn/T/ipykernel_20073/3840127278.py:26: RuntimeWarning: invalid value encountered in double_scalars\n",
      "  p = y.sum()[0] / len(y)\n"
     ]
    },
    {
     "name": "stdout",
     "output_type": "stream",
     "text": [
      "accuracy of training set for [min_samples_splits=8-max_depths=1] =0.5764705882352941\n",
      "accuracy of validation set for [min_samples_splits=8-max_depths=1] =0.6491228070175439\n",
      "------------------------------------------------\n"
     ]
    },
    {
     "name": "stderr",
     "output_type": "stream",
     "text": [
      "/var/folders/08/p1z1c8c126l84xc2g6szk34w0000gn/T/ipykernel_20073/3840127278.py:26: RuntimeWarning: invalid value encountered in double_scalars\n",
      "  p = y.sum()[0] / len(y)\n"
     ]
    },
    {
     "name": "stdout",
     "output_type": "stream",
     "text": [
      "accuracy of training set for [min_samples_splits=16-max_depths=1] =0.5764705882352941\n",
      "accuracy of validation set for [min_samples_splits=16-max_depths=1] =0.6491228070175439\n",
      "------------------------------------------------\n"
     ]
    },
    {
     "name": "stderr",
     "output_type": "stream",
     "text": [
      "/var/folders/08/p1z1c8c126l84xc2g6szk34w0000gn/T/ipykernel_20073/3840127278.py:26: RuntimeWarning: invalid value encountered in double_scalars\n",
      "  p = y.sum()[0] / len(y)\n"
     ]
    },
    {
     "name": "stdout",
     "output_type": "stream",
     "text": [
      "accuracy of training set for [min_samples_splits=32-max_depths=1] =0.5764705882352941\n",
      "accuracy of validation set for [min_samples_splits=32-max_depths=1] =0.6491228070175439\n",
      "------------------------------------------------\n"
     ]
    },
    {
     "name": "stderr",
     "output_type": "stream",
     "text": [
      "/var/folders/08/p1z1c8c126l84xc2g6szk34w0000gn/T/ipykernel_20073/3840127278.py:26: RuntimeWarning: invalid value encountered in double_scalars\n",
      "  p = y.sum()[0] / len(y)\n"
     ]
    },
    {
     "name": "stdout",
     "output_type": "stream",
     "text": [
      "accuracy of training set for [min_samples_splits=4-max_depths=2] =0.8705882352941177\n",
      "accuracy of validation set for [min_samples_splits=4-max_depths=2] =0.8771929824561403\n",
      "------------------------------------------------\n"
     ]
    },
    {
     "name": "stderr",
     "output_type": "stream",
     "text": [
      "/var/folders/08/p1z1c8c126l84xc2g6szk34w0000gn/T/ipykernel_20073/3840127278.py:26: RuntimeWarning: invalid value encountered in double_scalars\n",
      "  p = y.sum()[0] / len(y)\n"
     ]
    },
    {
     "name": "stdout",
     "output_type": "stream",
     "text": [
      "accuracy of training set for [min_samples_splits=8-max_depths=2] =0.8705882352941177\n",
      "accuracy of validation set for [min_samples_splits=8-max_depths=2] =0.8771929824561403\n",
      "------------------------------------------------\n"
     ]
    },
    {
     "name": "stderr",
     "output_type": "stream",
     "text": [
      "/var/folders/08/p1z1c8c126l84xc2g6szk34w0000gn/T/ipykernel_20073/3840127278.py:26: RuntimeWarning: invalid value encountered in double_scalars\n",
      "  p = y.sum()[0] / len(y)\n"
     ]
    },
    {
     "name": "stdout",
     "output_type": "stream",
     "text": [
      "accuracy of training set for [min_samples_splits=16-max_depths=2] =0.8705882352941177\n",
      "accuracy of validation set for [min_samples_splits=16-max_depths=2] =0.8771929824561403\n",
      "------------------------------------------------\n"
     ]
    },
    {
     "name": "stderr",
     "output_type": "stream",
     "text": [
      "/var/folders/08/p1z1c8c126l84xc2g6szk34w0000gn/T/ipykernel_20073/3840127278.py:26: RuntimeWarning: invalid value encountered in double_scalars\n",
      "  p = y.sum()[0] / len(y)\n"
     ]
    },
    {
     "name": "stdout",
     "output_type": "stream",
     "text": [
      "accuracy of training set for [min_samples_splits=32-max_depths=2] =0.8705882352941177\n",
      "accuracy of validation set for [min_samples_splits=32-max_depths=2] =0.8771929824561403\n",
      "------------------------------------------------\n"
     ]
    },
    {
     "name": "stderr",
     "output_type": "stream",
     "text": [
      "/var/folders/08/p1z1c8c126l84xc2g6szk34w0000gn/T/ipykernel_20073/3840127278.py:26: RuntimeWarning: invalid value encountered in double_scalars\n",
      "  p = y.sum()[0] / len(y)\n"
     ]
    },
    {
     "name": "stdout",
     "output_type": "stream",
     "text": [
      "accuracy of training set for [min_samples_splits=4-max_depths=3] =0.8705882352941177\n",
      "accuracy of validation set for [min_samples_splits=4-max_depths=3] =0.8771929824561403\n",
      "------------------------------------------------\n"
     ]
    },
    {
     "name": "stderr",
     "output_type": "stream",
     "text": [
      "/var/folders/08/p1z1c8c126l84xc2g6szk34w0000gn/T/ipykernel_20073/3840127278.py:26: RuntimeWarning: invalid value encountered in double_scalars\n",
      "  p = y.sum()[0] / len(y)\n"
     ]
    },
    {
     "name": "stdout",
     "output_type": "stream",
     "text": [
      "accuracy of training set for [min_samples_splits=8-max_depths=3] =0.8705882352941177\n",
      "accuracy of validation set for [min_samples_splits=8-max_depths=3] =0.8771929824561403\n",
      "------------------------------------------------\n"
     ]
    },
    {
     "name": "stderr",
     "output_type": "stream",
     "text": [
      "/var/folders/08/p1z1c8c126l84xc2g6szk34w0000gn/T/ipykernel_20073/3840127278.py:26: RuntimeWarning: invalid value encountered in double_scalars\n",
      "  p = y.sum()[0] / len(y)\n"
     ]
    },
    {
     "name": "stdout",
     "output_type": "stream",
     "text": [
      "accuracy of training set for [min_samples_splits=16-max_depths=3] =0.8705882352941177\n",
      "accuracy of validation set for [min_samples_splits=16-max_depths=3] =0.8771929824561403\n",
      "------------------------------------------------\n"
     ]
    },
    {
     "name": "stderr",
     "output_type": "stream",
     "text": [
      "/var/folders/08/p1z1c8c126l84xc2g6szk34w0000gn/T/ipykernel_20073/3840127278.py:26: RuntimeWarning: invalid value encountered in double_scalars\n",
      "  p = y.sum()[0] / len(y)\n"
     ]
    },
    {
     "name": "stdout",
     "output_type": "stream",
     "text": [
      "accuracy of training set for [min_samples_splits=32-max_depths=3] =0.8705882352941177\n",
      "accuracy of validation set for [min_samples_splits=32-max_depths=3] =0.8771929824561403\n",
      "------------------------------------------------\n"
     ]
    },
    {
     "name": "stderr",
     "output_type": "stream",
     "text": [
      "/var/folders/08/p1z1c8c126l84xc2g6szk34w0000gn/T/ipykernel_20073/3840127278.py:26: RuntimeWarning: invalid value encountered in double_scalars\n",
      "  p = y.sum()[0] / len(y)\n"
     ]
    },
    {
     "name": "stdout",
     "output_type": "stream",
     "text": [
      "accuracy of training set for [min_samples_splits=4-max_depths=4] =0.9176470588235294\n",
      "accuracy of validation set for [min_samples_splits=4-max_depths=4] =0.8721804511278195\n",
      "------------------------------------------------\n"
     ]
    },
    {
     "name": "stderr",
     "output_type": "stream",
     "text": [
      "/var/folders/08/p1z1c8c126l84xc2g6szk34w0000gn/T/ipykernel_20073/3840127278.py:26: RuntimeWarning: invalid value encountered in double_scalars\n",
      "  p = y.sum()[0] / len(y)\n"
     ]
    },
    {
     "name": "stdout",
     "output_type": "stream",
     "text": [
      "accuracy of training set for [min_samples_splits=8-max_depths=4] =0.888235294117647\n",
      "accuracy of validation set for [min_samples_splits=8-max_depths=4] =0.8421052631578947\n",
      "------------------------------------------------\n"
     ]
    },
    {
     "name": "stderr",
     "output_type": "stream",
     "text": [
      "/var/folders/08/p1z1c8c126l84xc2g6szk34w0000gn/T/ipykernel_20073/3840127278.py:26: RuntimeWarning: invalid value encountered in double_scalars\n",
      "  p = y.sum()[0] / len(y)\n"
     ]
    },
    {
     "name": "stdout",
     "output_type": "stream",
     "text": [
      "accuracy of training set for [min_samples_splits=16-max_depths=4] =0.8705882352941177\n",
      "accuracy of validation set for [min_samples_splits=16-max_depths=4] =0.8771929824561403\n",
      "------------------------------------------------\n"
     ]
    },
    {
     "name": "stderr",
     "output_type": "stream",
     "text": [
      "/var/folders/08/p1z1c8c126l84xc2g6szk34w0000gn/T/ipykernel_20073/3840127278.py:26: RuntimeWarning: invalid value encountered in double_scalars\n",
      "  p = y.sum()[0] / len(y)\n"
     ]
    },
    {
     "name": "stdout",
     "output_type": "stream",
     "text": [
      "accuracy of training set for [min_samples_splits=32-max_depths=4] =0.8705882352941177\n",
      "accuracy of validation set for [min_samples_splits=32-max_depths=4] =0.8771929824561403\n",
      "------------------------------------------------\n"
     ]
    },
    {
     "name": "stderr",
     "output_type": "stream",
     "text": [
      "/var/folders/08/p1z1c8c126l84xc2g6szk34w0000gn/T/ipykernel_20073/3840127278.py:26: RuntimeWarning: invalid value encountered in double_scalars\n",
      "  p = y.sum()[0] / len(y)\n"
     ]
    },
    {
     "name": "stdout",
     "output_type": "stream",
     "text": [
      "accuracy of training set for [min_samples_splits=4-max_depths=5] =0.9294117647058824\n",
      "accuracy of validation set for [min_samples_splits=4-max_depths=5] =0.9047619047619048\n",
      "------------------------------------------------\n"
     ]
    },
    {
     "name": "stderr",
     "output_type": "stream",
     "text": [
      "/var/folders/08/p1z1c8c126l84xc2g6szk34w0000gn/T/ipykernel_20073/3840127278.py:26: RuntimeWarning: invalid value encountered in double_scalars\n",
      "  p = y.sum()[0] / len(y)\n"
     ]
    },
    {
     "name": "stdout",
     "output_type": "stream",
     "text": [
      "accuracy of training set for [min_samples_splits=8-max_depths=5] =0.888235294117647\n",
      "accuracy of validation set for [min_samples_splits=8-max_depths=5] =0.8421052631578947\n",
      "------------------------------------------------\n"
     ]
    },
    {
     "name": "stderr",
     "output_type": "stream",
     "text": [
      "/var/folders/08/p1z1c8c126l84xc2g6szk34w0000gn/T/ipykernel_20073/3840127278.py:26: RuntimeWarning: invalid value encountered in double_scalars\n",
      "  p = y.sum()[0] / len(y)\n"
     ]
    },
    {
     "name": "stdout",
     "output_type": "stream",
     "text": [
      "accuracy of training set for [min_samples_splits=16-max_depths=5] =0.8705882352941177\n",
      "accuracy of validation set for [min_samples_splits=16-max_depths=5] =0.8771929824561403\n",
      "------------------------------------------------\n"
     ]
    },
    {
     "name": "stderr",
     "output_type": "stream",
     "text": [
      "/var/folders/08/p1z1c8c126l84xc2g6szk34w0000gn/T/ipykernel_20073/3840127278.py:26: RuntimeWarning: invalid value encountered in double_scalars\n",
      "  p = y.sum()[0] / len(y)\n"
     ]
    },
    {
     "name": "stdout",
     "output_type": "stream",
     "text": [
      "accuracy of training set for [min_samples_splits=32-max_depths=5] =0.8705882352941177\n",
      "accuracy of validation set for [min_samples_splits=32-max_depths=5] =0.8771929824561403\n",
      "------------------------------------------------\n"
     ]
    },
    {
     "name": "stderr",
     "output_type": "stream",
     "text": [
      "/var/folders/08/p1z1c8c126l84xc2g6szk34w0000gn/T/ipykernel_20073/3840127278.py:26: RuntimeWarning: invalid value encountered in double_scalars\n",
      "  p = y.sum()[0] / len(y)\n"
     ]
    },
    {
     "name": "stdout",
     "output_type": "stream",
     "text": [
      "accuracy of training set for [min_samples_splits=4-max_depths=6] =0.9294117647058824\n",
      "accuracy of validation set for [min_samples_splits=4-max_depths=6] =0.9047619047619048\n",
      "------------------------------------------------\n"
     ]
    },
    {
     "name": "stderr",
     "output_type": "stream",
     "text": [
      "/var/folders/08/p1z1c8c126l84xc2g6szk34w0000gn/T/ipykernel_20073/3840127278.py:26: RuntimeWarning: invalid value encountered in double_scalars\n",
      "  p = y.sum()[0] / len(y)\n"
     ]
    },
    {
     "name": "stdout",
     "output_type": "stream",
     "text": [
      "accuracy of training set for [min_samples_splits=8-max_depths=6] =0.888235294117647\n",
      "accuracy of validation set for [min_samples_splits=8-max_depths=6] =0.8421052631578947\n",
      "------------------------------------------------\n"
     ]
    },
    {
     "name": "stderr",
     "output_type": "stream",
     "text": [
      "/var/folders/08/p1z1c8c126l84xc2g6szk34w0000gn/T/ipykernel_20073/3840127278.py:26: RuntimeWarning: invalid value encountered in double_scalars\n",
      "  p = y.sum()[0] / len(y)\n"
     ]
    },
    {
     "name": "stdout",
     "output_type": "stream",
     "text": [
      "accuracy of training set for [min_samples_splits=16-max_depths=6] =0.8705882352941177\n",
      "accuracy of validation set for [min_samples_splits=16-max_depths=6] =0.8771929824561403\n",
      "------------------------------------------------\n"
     ]
    },
    {
     "name": "stderr",
     "output_type": "stream",
     "text": [
      "/var/folders/08/p1z1c8c126l84xc2g6szk34w0000gn/T/ipykernel_20073/3840127278.py:26: RuntimeWarning: invalid value encountered in double_scalars\n",
      "  p = y.sum()[0] / len(y)\n"
     ]
    },
    {
     "name": "stdout",
     "output_type": "stream",
     "text": [
      "accuracy of training set for [min_samples_splits=32-max_depths=6] =0.8705882352941177\n",
      "accuracy of validation set for [min_samples_splits=32-max_depths=6] =0.8771929824561403\n",
      "------------------------------------------------\n",
      "0.9047619047619048\n"
     ]
    }
   ],
   "source": [
    "best_max_depth = None\n",
    "best_min_samples_split = None\n",
    "best_accuracy = 0\n",
    "best_model = None\n",
    "for max_depth in max_depths:\n",
    "    for min_samples_split in min_samples_splits:\n",
    "        clf = DecisionTree(max_depth, min_samples_split)\n",
    "        clf.fit(x_train, y_train)\n",
    "        y_val_pred = clf.predict(x_val)\n",
    "        y_train_pred = clf.predict(x_train)\n",
    "        accuracy = accuracy_score(y_val_pred, y_val)\n",
    "        train_accuracy = accuracy_score(y_train_pred, y_train)\n",
    "        print(f\"accuracy of training set for [min_samples_splits={min_samples_split}-max_depths={max_depth}] ={train_accuracy}\")\n",
    "        print(f\"accuracy of validation set for [min_samples_splits={min_samples_split}-max_depths={max_depth}] ={accuracy}\")\n",
    "        print(\"------------------------------------------------\")\n",
    "        if accuracy >= best_accuracy:\n",
    "            best_accuracy = accuracy\n",
    "            best_max_depth = max_depth\n",
    "            best_min_samples_split = min_samples_split\n",
    "            best_model = clf\n",
    "print(best_accuracy)"
   ]
  },
  {
   "cell_type": "markdown",
   "id": "2383b92f",
   "metadata": {},
   "source": [
    "## Result\n",
    "So we trained our model with different hyperparameters. The result on training and validation set is shown above for each hyperparameter.\n",
    "As we can see, the best result we got was 92.9% accuracy on training set and 90.4% accuracy on validation set with hyper parameters min_samples_splits=4 and max_depths=6, which satisfies the problems constraints."
   ]
  }
 ],
 "metadata": {
  "kernelspec": {
   "display_name": "Python 3.10.7 64-bit",
   "language": "python",
   "name": "python3"
  },
  "language_info": {
   "codemirror_mode": {
    "name": "ipython",
    "version": 3
   },
   "file_extension": ".py",
   "mimetype": "text/x-python",
   "name": "python",
   "nbconvert_exporter": "python",
   "pygments_lexer": "ipython3",
   "version": "3.10.7"
  },
  "toc": {
   "base_numbering": 1,
   "nav_menu": {},
   "number_sections": true,
   "sideBar": true,
   "skip_h1_title": false,
   "title_cell": "Table of Contents",
   "title_sidebar": "Contents",
   "toc_cell": false,
   "toc_position": {},
   "toc_section_display": true,
   "toc_window_display": false
  },
  "varInspector": {
   "cols": {
    "lenName": 16,
    "lenType": 16,
    "lenVar": 40
   },
   "kernels_config": {
    "python": {
     "delete_cmd_postfix": "",
     "delete_cmd_prefix": "del ",
     "library": "var_list.py",
     "varRefreshCmd": "print(var_dic_list())"
    },
    "r": {
     "delete_cmd_postfix": ") ",
     "delete_cmd_prefix": "rm(",
     "library": "var_list.r",
     "varRefreshCmd": "cat(var_dic_list()) "
    }
   },
   "types_to_exclude": [
    "module",
    "function",
    "builtin_function_or_method",
    "instance",
    "_Feature"
   ],
   "window_display": false
  },
  "vscode": {
   "interpreter": {
    "hash": "aee8b7b246df8f9039afb4144a1f6fd8d2ca17a180786b69acc140d282b71a49"
   }
  }
 },
 "nbformat": 4,
 "nbformat_minor": 5
}
